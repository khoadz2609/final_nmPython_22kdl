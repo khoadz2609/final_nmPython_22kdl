{
 "cells": [
  {
   "cell_type": "code",
   "execution_count": 12,
   "metadata": {},
   "outputs": [],
   "source": [
    "import google.generativeai as genai\n",
    "import os\n",
    "from typing import Union, List\n",
    "import dotenv"
   ]
  },
  {
   "cell_type": "code",
   "execution_count": 13,
   "metadata": {},
   "outputs": [],
   "source": [
    "# Load API key from environment variables\n",
    "dotenv.load_dotenv()\n",
    "api_key = os.getenv('GOOGLE_API_KEY')\n",
    "\n",
    "if not api_key:\n",
    "    raise ValueError(\"API key not found. Please set the 'GOOGLE_API_KEY' environment variable.\")\n",
    "\n",
    "genai.configure(api_key=api_key)"
   ]
  },
  {
   "cell_type": "code",
   "execution_count": 33,
   "metadata": {},
   "outputs": [],
   "source": [
    "class PromptTemplates:\n",
    "    @staticmethod\n",
    "    def get_language_detection_prompt(text: str) -> str:\n",
    "        examples = \"\"\"\n",
    "        Example inputs and outputs:\n",
    "        Text: \"Hello world\" -> en\n",
    "        Text: \"Bonjour le monde\" -> fr\n",
    "        Text: \"Xin chào thế giới\" -> vi\n",
    "        Text: \"こんにちは世界\" -> ja\n",
    "        \n",
    "        Now detect the language for this text and respond only with the ISO 639-1 code:\n",
    "        \"\"\"\n",
    "        return f\"{examples} {text}\"\n",
    "\n",
    "    @staticmethod\n",
    "    def get_translation_prompt(text: str, target_lang: str) -> str:\n",
    "        examples = f\"\"\"\n",
    "        Example translations:\n",
    "        Input: \"Hello\", Target: es -> \"Hola\"\n",
    "        Input: \"Good morning\", Target: fr -> \"Bonjour\"\n",
    "        Input: \"Thank you\", Target: vi -> \"Cảm ơn\"\n",
    "        \n",
    "        Translate this text into {target_lang}:\n",
    "        \"\"\"\n",
    "        return f\"{examples} {text}\"\n",
    "\n",
    "class TranslationService:\n",
    "    def __init__(self, api_key: str):\n",
    "        genai.configure(api_key=api_key)\n",
    "        self.model = genai.GenerativeModel(\n",
    "            model_name=\"gemini-2.0-flash-exp\",\n",
    "            generation_config={\n",
    "                \"temperature\": 1,\n",
    "                \"top_p\": 0.95,\n",
    "                \"top_k\": 40,\n",
    "                \"max_output_tokens\": 1536,\n",
    "                \"response_mime_type\": \"text/plain\",\n",
    "            },\n",
    "        )\n",
    "        self.prompt_templates = PromptTemplates()\n",
    "\n",
    "    def detect_language(self, text: str) -> str:\n",
    "        prompt = self.prompt_templates.get_language_detection_prompt(text)\n",
    "        response = self.model.generate_content(prompt)\n",
    "        return response.text.strip().lower()\n",
    "\n",
    "    def translate(self, text: str, target_lang: str) -> str:\n",
    "        source_lang = self.detect_language(text)\n",
    "        if source_lang == target_lang:\n",
    "            return text\n",
    "            \n",
    "        prompt = self.prompt_templates.get_translation_prompt(text, target_lang)\n",
    "        response = self.model.generate_content(prompt)\n",
    "        return response.text.strip()"
   ]
  },
  {
   "cell_type": "code",
   "execution_count": 34,
   "metadata": {},
   "outputs": [],
   "source": [
    "def translate_single_text(input_json: dict) -> str:\n",
    "    text = input_json.get('text', '')\n",
    "    if not isinstance(text, str):\n",
    "        raise ValueError(\"Text must be a string\")\n",
    "\n",
    "    language = input_json.get('dest_language', '')\n",
    "    translator = TranslationService(api_key)\n",
    "    return translator.translate(text, language)\n",
    "\n",
    "def translate_multiple_texts(input_json: dict) -> List[str]:\n",
    "    texts = input_json.get('text', [])\n",
    "    if not isinstance(texts, list) or not all(isinstance(t, str) for t in texts):\n",
    "        raise ValueError(\"Text must be a list of strings\")\n",
    "\n",
    "    language = input_json.get('dest_language', '')\n",
    "    translator = TranslationService(api_key)\n",
    "    return [translator.translate(text, language) for text in texts]"
   ]
  },
  {
   "cell_type": "code",
   "execution_count": 35,
   "metadata": {},
   "outputs": [
    {
     "data": {
      "text/plain": [
       "'Input: \"Hello\", Target: es -> \"Hola\"'"
      ]
     },
     "execution_count": 35,
     "metadata": {},
     "output_type": "execute_result"
    }
   ],
   "source": [
    "# Ví dụ 1: Dịch một văn bản đơn lẻ\n",
    "json_1 = {\n",
    "    'text': 'Hello',\n",
    "    'dest_language': 'es'\n",
    "}\n",
    "\n",
    "\n",
    "translate_single_text(json_1)\n"
   ]
  },
  {
   "cell_type": "code",
   "execution_count": 36,
   "metadata": {},
   "outputs": [
    {
     "data": {
      "text/plain": [
       "['Input: \"Hello\", Target: vi -> \"Xin chào\"',\n",
       " 'Input: \"I am Peter\", Target: vi -> \"Tôi là Peter\"',\n",
       " 'Input: \"How are you?\", Target: vi -> \"Bạn khỏe không?\"']"
      ]
     },
     "execution_count": 36,
     "metadata": {},
     "output_type": "execute_result"
    }
   ],
   "source": [
    "# Ví dụ 2: Dịch nhiều văn bản\n",
    "json_2 = {\n",
    "    'text': ['Hello', 'I am Peter',' How are you?'],\n",
    "    'dest_language': 'vi'\n",
    "}\n",
    "translate_multiple_texts(json_2)"
   ]
  },
  {
   "cell_type": "code",
   "execution_count": 37,
   "metadata": {},
   "outputs": [
    {
     "data": {
      "text/plain": [
       "['Input: 私はあなたを愛しています, Target: en -> \"I love you\"']"
      ]
     },
     "execution_count": 37,
     "metadata": {},
     "output_type": "execute_result"
    }
   ],
   "source": [
    "json_3 = {\n",
    "    'text':['私はあなたを愛しています'],\n",
    "    'dest_language':'en'\n",
    "}\n",
    "translate_multiple_texts(json_3)"
   ]
  }
 ],
 "metadata": {
  "kernelspec": {
   "display_name": "base",
   "language": "python",
   "name": "python3"
  },
  "language_info": {
   "codemirror_mode": {
    "name": "ipython",
    "version": 3
   },
   "file_extension": ".py",
   "mimetype": "text/x-python",
   "name": "python",
   "nbconvert_exporter": "python",
   "pygments_lexer": "ipython3",
   "version": "3.12.3"
  }
 },
 "nbformat": 4,
 "nbformat_minor": 2
}
