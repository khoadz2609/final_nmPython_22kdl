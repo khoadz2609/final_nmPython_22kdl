{
  "nbformat": 4,
  "nbformat_minor": 0,
  "metadata": {
    "colab": {
      "provenance": []
    },
    "kernelspec": {
      "name": "python3",
      "display_name": "Python 3"
    },
    "language_info": {
      "name": "python"
    }
  },
  "cells": [
    {
      "cell_type": "markdown",
      "source": [
        "<div style=\"text-align: center;\">\n",
        "  <h2><b>Ho Chi Minh University of Science</b></h2>\n",
        "  <h3><b>Mathematics & Computer Science Faculty</b></h3>\n",
        "  <img src='https://th.bing.com/th/id/R.7298e6a7f00d000e22456c9977085835?rik=DqP9BjBZsGKPxw&pid=ImgRaw&r=0' width=\"250px\">\n",
        "  <h1><b>COURSE PROJECT: PYTHON FOR DATA SCIENCE</b></h1>\n",
        "  <ul style=\"list-style-type: none; padding: 0;\">\n",
        "    <li>\n",
        "      <table style=\"margin: 0 auto; border-collapse: collapse; width: 50%;\">\n",
        "        <thead>\n",
        "          <tr>\n",
        "            <th style=\"border: 1px solid black; padding: 8px;\">Full Name</th>\n",
        "            <th style=\"border: 1px solid black; padding: 8px;\">Student ID</th>\n",
        "          </tr>\n",
        "        </thead>\n",
        "        <tbody>\n",
        "          <tr>\n",
        "            <td style=\"border: 1px solid black; padding: 8px;\">Nguyễn Lê Lâm Phúc</td>\n",
        "            <td style=\"border: 1px solid black; padding: 8px;\">22280066</td>\n",
        "          </tr>\n",
        "          <tr>\n",
        "            <td style=\"border: 1px solid black; padding: 8px;\">Mạc Minh Phúc</td>\n",
        "            <td style=\"border: 1px solid black; padding: 8px;\"></td>\n",
        "          </tr>\n",
        "          <tr>\n",
        "            <td style=\"border: 1px solid black; padding: 8px;\">Trần Đại Lộc</td>\n",
        "            <td style=\"border: 1px solid black; padding: 8px;\"></td>\n",
        "          </tr>\n",
        "          <tr>\n",
        "            <td style=\"border: 1px solid black; padding: 8px;\">Nguyễn Lê Đăng Khoa</td>\n",
        "            <td style=\"border: 1px solid black; padding: 8px;\"></td>\n",
        "          </tr>\n",
        "        </tbody>\n",
        "      </table>\n",
        "    </li>\n",
        "  </ul>\n",
        "</div>\n"
      ],
      "metadata": {
        "id": "j3ikSDjRmGqq"
      }
    },
    {
      "cell_type": "markdown",
      "source": [
        "## **Question 1:** LLM Integration"
      ],
      "metadata": {
        "id": "v2_seRdetbWX"
      }
    },
    {
      "cell_type": "markdown",
      "source": [
        "### Import libraries"
      ],
      "metadata": {
        "id": "TXyfP-P3oLfp"
      }
    },
    {
      "cell_type": "code",
      "source": [
        "!pip install python-dotenv"
      ],
      "metadata": {
        "colab": {
          "base_uri": "https://localhost:8080/"
        },
        "id": "OKbuTveD5uob",
        "outputId": "3bee9504-975c-40d8-b2b9-3c7f426ee1ac"
      },
      "execution_count": null,
      "outputs": [
        {
          "output_type": "stream",
          "name": "stdout",
          "text": [
            "Collecting python-dotenv\n",
            "  Downloading python_dotenv-1.0.1-py3-none-any.whl.metadata (23 kB)\n",
            "Downloading python_dotenv-1.0.1-py3-none-any.whl (19 kB)\n",
            "Installing collected packages: python-dotenv\n",
            "Successfully installed python-dotenv-1.0.1\n"
          ]
        }
      ]
    },
    {
      "cell_type": "code",
      "execution_count": null,
      "metadata": {
        "id": "A9RJAiTDmb6N"
      },
      "outputs": [],
      "source": [
        "import google.generativeai as genai\n",
        "import os\n",
        "from typing import Union, List\n",
        "import dotenv"
      ]
    },
    {
      "cell_type": "markdown",
      "source": [
        "### Load API key"
      ],
      "metadata": {
        "id": "kkwwOsRgooLg"
      }
    },
    {
      "cell_type": "code",
      "execution_count": null,
      "metadata": {
        "id": "B7AGYaoemb6O"
      },
      "outputs": [],
      "source": [
        "# Load API key from environment variables\n",
        "dotenv.load_dotenv()\n",
        "api_key = os.getenv('GOOGLE_API_KEY')\n",
        "\n",
        "if not api_key:\n",
        "    raise ValueError(\"API key not found. Please set the 'GOOGLE_API_KEY' environment variable.\")\n",
        "\n",
        "genai.configure(api_key=api_key)"
      ]
    },
    {
      "cell_type": "markdown",
      "source": [
        "### Text translation and language detection"
      ],
      "metadata": {
        "id": "m5lVtkBEs3J2"
      }
    },
    {
      "cell_type": "code",
      "source": [
        "class PromptTemplates:\n",
        "    \"\"\"\n",
        "    A utility class for generating prompts for language detection and translation.\n",
        "    \"\"\"\n",
        "\n",
        "    @staticmethod\n",
        "    def get_language_detection_prompt(text: str) -> str:\n",
        "        \"\"\"\n",
        "        Generates a prompt to detect the language of the given text.\n",
        "\n",
        "        Args:\n",
        "            text (str): The input text for language detection.\n",
        "\n",
        "        Returns:\n",
        "            str: A prompt instructing the model to detect the language.\n",
        "        \"\"\"\n",
        "        examples = \"\"\"\n",
        "        Example inputs and outputs:\n",
        "        Text: \"Hello world\" -> en\n",
        "        Text: \"Bonjour le monde\" -> fr\n",
        "        Text: \"Xin chào thế giới\" -> vi\n",
        "        Text: \"こんにちは世界\" -> ja\n",
        "\n",
        "        Now detect the language for this text and respond only with the ISO 639-1 code:\n",
        "        \"\"\"\n",
        "        return f\"{examples} {text}\"\n",
        "\n",
        "    @staticmethod\n",
        "    def get_translation_prompt(text: str, target_lang: str) -> str:\n",
        "        \"\"\"\n",
        "        Generates a prompt to translate the given text into a target language.\n",
        "\n",
        "        Args:\n",
        "            text (str): The input text to be translated.\n",
        "            target_lang (str): The ISO 639-1 code of the target language.\n",
        "\n",
        "        Returns:\n",
        "            str: A prompt instructing the model to translate the text.\n",
        "        \"\"\"\n",
        "        examples = f\"\"\"\n",
        "        Example translations:\n",
        "        Input: \"Hello\", Target: es -> \"Hola\"\n",
        "        Input: \"Good morning\", Target: fr -> \"Bonjour\"\n",
        "        Input: \"Thank you\", Target: vi -> \"Cảm ơn\"\n",
        "\n",
        "        Translate this text into {target_lang}:\n",
        "        \"\"\"\n",
        "        return f\"{examples} {text}\"\n",
        "\n",
        "class TranslationService:\n",
        "    \"\"\"\n",
        "    A service class for detecting language and translating text using a generative AI model.\n",
        "    \"\"\"\n",
        "\n",
        "    def __init__(self, api_key: str):\n",
        "        \"\"\"\n",
        "        Initializes the TranslationService class, setting up configurations for the generative AI model\n",
        "        and preparing it for language detection and translation tasks.\n",
        "\n",
        "        Args:\n",
        "            api_key (str): The API key required to authenticate and access the generative AI service.\n",
        "        \"\"\"\n",
        "\n",
        "        # Configure the genai library with the provided API key.\n",
        "        # This step authenticates the client with the generative AI service and enables secure access.\n",
        "        genai.configure(api_key=api_key)\n",
        "\n",
        "        # Initialize a generative AI model with the specified name and configuration parameters.\n",
        "        # This instance will be used to generate responses for language detection and translation.\n",
        "        self.model = genai.GenerativeModel(\n",
        "            model_name=\"gemini-2.0-flash-exp\",  # Specifies the version of the AI model to use.\n",
        "            generation_config={\n",
        "                \"temperature\": 1,  # Controls randomness in responses. A higher value increases diversity.\n",
        "                \"top_p\": 0.95,  # Implements nucleus sampling. Tokens are chosen from the top 95% cumulative probability.\n",
        "                \"top_k\": 40,  # Limits token selection to the top 40 most probable tokens for added coherence.\n",
        "                \"max_output_tokens\": 1536,  # Sets the maximum length for generated responses, preventing excessively long outputs.\n",
        "                \"response_mime_type\": \"text/plain\",  # Specifies the output format as plain text.\n",
        "            },\n",
        "        )\n",
        "\n",
        "        # Instantiate the PromptTemplates class, which provides predefined prompts for the generative model.\n",
        "        # These templates ensure consistent and effective communication with the model for tasks like\n",
        "        # detecting the language of input text and translating text into a target language.\n",
        "        self.prompt_templates = PromptTemplates()\n",
        "\n",
        "\n",
        "    def detect_language(self, text: str) -> str:\n",
        "        \"\"\"\n",
        "        Detects the language of the given text.\n",
        "\n",
        "        Args:\n",
        "            text (str): The input text for language detection.\n",
        "\n",
        "        Returns:\n",
        "            str: The ISO 639-1 code of the detected language.\n",
        "        \"\"\"\n",
        "        prompt = self.prompt_templates.get_language_detection_prompt(text)\n",
        "        response = self.model.generate_content(prompt)\n",
        "        return response.text.strip().lower()\n",
        "\n",
        "    def translate(self, text: str, target_lang: str) -> str:\n",
        "        \"\"\"\n",
        "        Translates the given text into the target language.\n",
        "\n",
        "        Args:\n",
        "            text (str): The input text to be translated.\n",
        "            target_lang (str): The ISO 639-1 code of the target language.\n",
        "\n",
        "        Returns:\n",
        "            str: The translated text. If the source and target languages are the same, returns the input text.\n",
        "        \"\"\"\n",
        "        # Detect the source language\n",
        "        source_lang = self.detect_language(text)\n",
        "\n",
        "        # If source and target languages match, return the original text\n",
        "        if source_lang == target_lang:\n",
        "            return text\n",
        "\n",
        "        # Generate a translation prompt and get the translated content\n",
        "        prompt = self.prompt_templates.get_translation_prompt(text, target_lang)\n",
        "        response = self.model.generate_content(prompt)\n",
        "        return response.text.strip()"
      ],
      "metadata": {
        "id": "T0iBKbK1phEv"
      },
      "execution_count": null,
      "outputs": []
    },
    {
      "cell_type": "markdown",
      "source": [
        "### Handle text translation"
      ],
      "metadata": {
        "id": "7Tr3nueysyJW"
      }
    },
    {
      "cell_type": "code",
      "execution_count": null,
      "metadata": {
        "id": "f28m8WXXmb6Q"
      },
      "outputs": [],
      "source": [
        "def translate_single_text(input_json: dict) -> str:\n",
        "    \"\"\"\n",
        "    Translates a single text string from the input JSON to the specified destination language.\n",
        "\n",
        "    Args:\n",
        "        input_json (dict): A dictionary containing:\n",
        "            - 'text' (str): The text to be translated.\n",
        "            - 'dest_language' (str): The target language code for translation.\n",
        "\n",
        "    Returns:\n",
        "        str: The translated text.\n",
        "\n",
        "    Raises:\n",
        "        ValueError: If the 'text' field is not a string.\n",
        "    \"\"\"\n",
        "    # Extract the 'text' field from the input JSON, defaulting to an empty string if missing.\n",
        "    text = input_json.get('text', '')\n",
        "\n",
        "    # Ensure the 'text' field is a string; raise an error if not.\n",
        "    if not isinstance(text, str):\n",
        "        raise ValueError(\"Text must be a string\")\n",
        "\n",
        "    # Extract the destination language code from the input JSON, defaulting to an empty string if missing.\n",
        "    language = input_json.get('dest_language', '')\n",
        "\n",
        "    # Create an instance of the translation service using a provided API key.\n",
        "    translator = TranslationService(api_key)\n",
        "\n",
        "    # Translate the text to the specified destination language and return the result.\n",
        "    return translator.translate(text, language)\n",
        "\n",
        "def translate_multiple_texts(input_json: dict) -> List[str]:\n",
        "    \"\"\"\n",
        "    Translates multiple text strings from the input JSON to the specified destination language.\n",
        "\n",
        "    Args:\n",
        "        input_json (dict): A dictionary containing:\n",
        "            - 'text' (List[str]): A list of text strings to be translated.\n",
        "            - 'dest_language' (str): The target language code for translation.\n",
        "\n",
        "    Returns:\n",
        "        List[str]: A list of translated text strings.\n",
        "\n",
        "    Raises:\n",
        "        ValueError: If the 'text' field is not a list of strings.\n",
        "    \"\"\"\n",
        "    # Extract the 'text' field from the input JSON, defaulting to an empty list if missing.\n",
        "    texts = input_json.get('text', [])\n",
        "\n",
        "    # Ensure the 'text' field is a list of strings; raise an error if not.\n",
        "    if not isinstance(texts, list) or not all(isinstance(t, str) for t in texts):\n",
        "        raise ValueError(\"Text must be a list of strings\")\n",
        "\n",
        "    # Extract the destination language code from the input JSON, defaulting to an empty string if missing.\n",
        "    language = input_json.get('dest_language', '')\n",
        "\n",
        "    # Create an instance of the translation service using a provided API key.\n",
        "    translator = TranslationService(api_key)\n",
        "\n",
        "    # Translate each text string in the list to the specified destination language.\n",
        "    return [translator.translate(text, language) for text in texts]\n"
      ]
    },
    {
      "cell_type": "markdown",
      "source": [
        "### Example"
      ],
      "metadata": {
        "id": "ZkCf04xQpdnA"
      }
    },
    {
      "cell_type": "markdown",
      "source": [
        "#### Question 1.1"
      ],
      "metadata": {
        "id": "jLPXEBPhtCoV"
      }
    },
    {
      "cell_type": "code",
      "execution_count": null,
      "metadata": {
        "id": "2mAVnO_Smb6R",
        "outputId": "b1af03e6-6bbb-4e1c-a916-9139bae7690e"
      },
      "outputs": [
        {
          "data": {
            "text/plain": [
              "'Input: \"Hello\", Target: es -> \"Hola\"'"
            ]
          },
          "execution_count": 35,
          "metadata": {},
          "output_type": "execute_result"
        }
      ],
      "source": [
        "# Ví dụ 1: Dịch một văn bản đơn lẻ\n",
        "json_1 = {\n",
        "    'text': 'Hello',\n",
        "    'dest_language': 'es'\n",
        "}\n",
        "\n",
        "\n",
        "translate_single_text(json_1)\n"
      ]
    },
    {
      "cell_type": "markdown",
      "source": [
        "#### Question 1.2"
      ],
      "metadata": {
        "id": "A-A1vM51tInd"
      }
    },
    {
      "cell_type": "code",
      "execution_count": null,
      "metadata": {
        "id": "ctBVj7Obmb6S",
        "outputId": "d1789d50-bd90-4408-fa20-e051d3bf1bc9"
      },
      "outputs": [
        {
          "data": {
            "text/plain": [
              "['Input: \"Hello\", Target: vi -> \"Xin chào\"',\n",
              " 'Input: \"I am Peter\", Target: vi -> \"Tôi là Peter\"',\n",
              " 'Input: \"How are you?\", Target: vi -> \"Bạn khỏe không?\"']"
            ]
          },
          "execution_count": 36,
          "metadata": {},
          "output_type": "execute_result"
        }
      ],
      "source": [
        "# Ví dụ 2: Dịch nhiều văn bản\n",
        "json_2 = {\n",
        "    'text': ['Hello', 'I am Peter',' How are you?'],\n",
        "    'dest_language': 'vi'\n",
        "}\n",
        "translate_multiple_texts(json_2)"
      ]
    },
    {
      "cell_type": "code",
      "execution_count": null,
      "metadata": {
        "id": "G7qa7WE_mb6T",
        "outputId": "e48d4889-5c78-424b-fb78-74fa2ac3b8f3"
      },
      "outputs": [
        {
          "data": {
            "text/plain": [
              "['Input: 私はあなたを愛しています, Target: en -> \"I love you\"']"
            ]
          },
          "execution_count": 37,
          "metadata": {},
          "output_type": "execute_result"
        }
      ],
      "source": [
        "json_3 = {\n",
        "    'text':['私はあなたを愛しています'],\n",
        "    'dest_language':'en'\n",
        "}\n",
        "translate_multiple_texts(json_3)"
      ]
    },
    {
      "cell_type": "markdown",
      "source": [
        "##**Question 2:** Chatbot Development"
      ],
      "metadata": {
        "id": "TqUMh_9OsdOX"
      }
    },
    {
      "cell_type": "markdown",
      "source": [
        "### Import libraries"
      ],
      "metadata": {
        "id": "P-avjhyQtqMa"
      }
    },
    {
      "cell_type": "code",
      "source": [
        "!pip install bs4"
      ],
      "metadata": {
        "colab": {
          "base_uri": "https://localhost:8080/"
        },
        "id": "ejrjM42l0Co8",
        "outputId": "4ba7a65a-5195-4079-830c-5b2f434a6ea9"
      },
      "execution_count": null,
      "outputs": [
        {
          "output_type": "stream",
          "name": "stdout",
          "text": [
            "Requirement already satisfied: bs4 in /usr/local/lib/python3.10/dist-packages (0.0.2)\n",
            "Requirement already satisfied: beautifulsoup4 in /usr/local/lib/python3.10/dist-packages (from bs4) (4.12.3)\n",
            "Requirement already satisfied: soupsieve>1.2 in /usr/local/lib/python3.10/dist-packages (from beautifulsoup4->bs4) (2.6)\n"
          ]
        }
      ]
    },
    {
      "cell_type": "code",
      "source": [
        "import json\n",
        "import numpy as np\n",
        "from sklearn.metrics.pairwise import cosine_similarity\n",
        "from sentence_transformers import SentenceTransformer\n",
        "import google.generativeai as genai\n",
        "import os\n",
        "from bs4 import BeautifulSoup\n",
        "import requests\n",
        "import dotenv"
      ],
      "metadata": {
        "id": "ZPbkXMww3ILE"
      },
      "execution_count": null,
      "outputs": []
    },
    {
      "cell_type": "markdown",
      "source": [
        "### Crawling data"
      ],
      "metadata": {
        "id": "Y7Y4zPbrt1Ue"
      }
    },
    {
      "cell_type": "code",
      "source": [
        "# Get the website URL\n",
        "url='https://www.presight.io/privacy-policy.html'\n",
        "result= requests.get(url)\n",
        "soup=BeautifulSoup(result.text,'html.parser')"
      ],
      "metadata": {
        "id": "1tu7Y2z00Fbj"
      },
      "execution_count": null,
      "outputs": []
    },
    {
      "cell_type": "code",
      "source": [
        "def parse_elements(elements):\n",
        "    \"\"\"\n",
        "    Parse elements from HTML and structure them into a JSON format.\n",
        "\n",
        "    Args:\n",
        "        elements (list): List of HTML elements to parse.\n",
        "\n",
        "    Returns:\n",
        "        dict: Parsed data structured as a JSON.\n",
        "    \"\"\"\n",
        "    data = {\"PRIVACY POLICY\": []}\n",
        "    prev_element = None\n",
        "    current_header = None\n",
        "\n",
        "    # Skip unnecessary part, find and crawl only relevant data\n",
        "    for element in elements[3:]:\n",
        "        if element.name == 'i':\n",
        "            handle_italic_element(element, current_header, prev_element)\n",
        "        elif element.name == 'h2':\n",
        "            current_header = handle_header_element(element, prev_element, current_header, data)\n",
        "        elif element.name in ['p', 'li']:\n",
        "            handle_content_element(element, current_header)\n",
        "\n",
        "        prev_element = element\n",
        "\n",
        "    if current_header:\n",
        "        data[\"PRIVACY POLICY\"].append(current_header)\n",
        "\n",
        "    return data\n",
        "\n",
        "def handle_italic_element(element, current_header, prev_element):\n",
        "    \"\"\"\n",
        "    Handle italic elements (<i> tags) and add them as subheaders to construct a more reasonable JSON file.\n",
        "\n",
        "    Args:\n",
        "        element (bs4.element.Tag): The <i> element to process.\n",
        "        current_header (dict): The current header being processed.\n",
        "        prev_element (bs4.element.Tag): The previous element.\n",
        "    \"\"\"\n",
        "    if current_header:\n",
        "        current_header[\"Subheaders\"].append({\n",
        "            \"Title\": element.text.strip(),\n",
        "            \"Content\": \"\"\n",
        "        })\n",
        "    else:\n",
        "        current_header = {\n",
        "            \"Title\": prev_element.text.strip(),\n",
        "            \"Subheaders\": [\n",
        "                {\"Title\": element.text.strip(), \"Content\": \"\"}\n",
        "            ]\n",
        "        }\n",
        "\n",
        "def handle_header_element(element, prev_element, current_header, data):\n",
        "    \"\"\"\n",
        "    Handle header elements (<h2> tags) and structure them accordingly.\n",
        "\n",
        "    Args:\n",
        "        element (bs4.element.Tag): The <h2> element to process.\n",
        "        prev_element (bs4.element.Tag): The previous element.\n",
        "        current_header (dict): The current header being processed.\n",
        "        data (dict): The main data dictionary.\n",
        "\n",
        "    Returns:\n",
        "        dict: Updated current header.\n",
        "    \"\"\"\n",
        "    if element.text == \"Automated Edit Checks\":\n",
        "        if current_header:\n",
        "            current_header[\"Subheaders\"].append({\n",
        "                \"Title\": element.text.strip(),\n",
        "                \"Content\": \"\"\n",
        "            })\n",
        "    elif prev_element and prev_element.name == 'h2':\n",
        "        if current_header:\n",
        "            current_header[\"Subheaders\"].append({\n",
        "                \"Title\": element.text.strip(),\n",
        "                \"Content\": \"\"\n",
        "            })\n",
        "        else:\n",
        "            current_header = {\n",
        "                \"Title\": prev_element.text.strip(),\n",
        "                \"Subheaders\": [\n",
        "                    {\"Title\": element.text.strip(), \"Content\": \"\"}\n",
        "                ]\n",
        "            }\n",
        "    else:\n",
        "        if current_header:\n",
        "            data[\"PRIVACY POLICY\"].append(current_header)\n",
        "        current_header = {\"Title\": element.text.strip(), \"Content\": \"\", \"Subheaders\": []}\n",
        "\n",
        "    return current_header\n",
        "\n",
        "def handle_content_element(element, current_header):\n",
        "    \"\"\"\n",
        "    Handle content elements (<p> and <li> tags) and add content to the appropriate section.\n",
        "\n",
        "    Args:\n",
        "        element (bs4.element.Tag): The content element to process.\n",
        "        current_header (dict): The current header being processed.\n",
        "    \"\"\"\n",
        "    if current_header:\n",
        "        if current_header[\"Subheaders\"]:\n",
        "            current_header[\"Subheaders\"][-1][\"Content\"] += element.text.strip() + (\"; \" if element.name == 'li' else \" \")\n",
        "        else:\n",
        "            current_header[\"Content\"] += element.text.strip() + (\"; \" if element.name == 'li' else \" \")\n",
        "\n",
        "def split_first_element(data):\n",
        "    \"\"\"\n",
        "    Splits the first element in the PRIVACY POLICY into two distinct elements.\n",
        "\n",
        "    Args:\n",
        "        data (dict): The original JSON data.\n",
        "\n",
        "    Returns:\n",
        "        dict: Updated JSON data with the first element split.\n",
        "    \"\"\"\n",
        "    result = {\"PRIVACY POLICY\": []}\n",
        "    for entry in data[\"PRIVACY POLICY\"]:\n",
        "        if entry[\"Title\"].startswith(\"Last updated\"):\n",
        "            result[\"PRIVACY POLICY\"].append({\n",
        "                \"Title\": \"Update date\",\n",
        "                \"Content\": entry[\"Title\"],\n",
        "                \"Subheaders\": []\n",
        "            })\n",
        "            result[\"PRIVACY POLICY\"].append({\n",
        "                \"Title\": \"Commitment\",\n",
        "                \"Content\": entry[\"Content\"],\n",
        "                \"Subheaders\": entry[\"Subheaders\"]\n",
        "            })\n",
        "        else:\n",
        "            result[\"PRIVACY POLICY\"].append(entry)\n",
        "\n",
        "    return result\n",
        "\n",
        "elements = soup.find_all(['p', 'h2', 'li', 'i'])\n",
        "parsed_data = parse_elements(elements)\n",
        "result = split_first_element(parsed_data)\n",
        "print(json.dumps(result, indent=4, ensure_ascii=False))\n",
        "\n"
      ],
      "metadata": {
        "colab": {
          "base_uri": "https://localhost:8080/"
        },
        "id": "fdAi4HV12-8P",
        "outputId": "ed397792-c232-41aa-97db-6740ed62a9ef"
      },
      "execution_count": null,
      "outputs": [
        {
          "output_type": "stream",
          "name": "stdout",
          "text": [
            "{\n",
            "    \"PRIVACY POLICY\": [\n",
            "        {\n",
            "            \"Title\": \"Update date\",\n",
            "            \"Content\": \"Last updated 15 Sep 2023\",\n",
            "            \"Subheaders\": []\n",
            "        },\n",
            "        {\n",
            "            \"Title\": \"Commitment\",\n",
            "            \"Content\": \"At Presight, we are committed to protecting the privacy of our customers and visitors to our website. This Privacy Policy explains how we collect, use, and disclose information about our customers and visitors. \",\n",
            "            \"Subheaders\": []\n",
            "        },\n",
            "        {\n",
            "            \"Title\": \"Information Collection and Use\",\n",
            "            \"Content\": \"We collect several different types of information for various purposes to provide and improve our Service to you. \",\n",
            "            \"Subheaders\": []\n",
            "        },\n",
            "        {\n",
            "            \"Title\": \"Types of Data Collected\",\n",
            "            \"Content\": \"\",\n",
            "            \"Subheaders\": [\n",
            "                {\n",
            "                    \"Title\": \"Personal Data\",\n",
            "                    \"Content\": \"While using our Service, we may ask you to provide us with certain personally identifiable information that can be used to contact or identify you (\\\"Personal Data\\\"). Personally identifiable information may include, but is not limited to: Email address; First name and last name; Phone number; Address, State, Province, ZIP/Postal code, City; Cookies and Usage Data; \"\n",
            "                },\n",
            "                {\n",
            "                    \"Title\": \"Usage Data\",\n",
            "                    \"Content\": \"We may also collect information that your browser sends whenever you visit our Service or when you access the Service by or through a mobile device (\\\"Usage Data\\\"). This Usage Data may include information such as your computer's Internet Protocol address (e.g. IP address), browser type, browser version, the pages of our Service that you visit, the time and date of your visit, the time spent on those pages, unique device identifiers, and other diagnostic data. \"\n",
            "                }\n",
            "            ]\n",
            "        },\n",
            "        {\n",
            "            \"Title\": \"Use of Data\",\n",
            "            \"Content\": \"Presight uses the collected data for various purposes: To provide and maintain our Service; To notify you about changes to our Service; To allow you to participate in interactive features of our Service when you choose to do so; To provide customer support; To gather analysis or valuable information so that we can improve our Service; To monitor the usage of our Service; To detect, prevent and address technical issues; \",\n",
            "            \"Subheaders\": []\n",
            "        },\n",
            "        {\n",
            "            \"Title\": \"Consent\",\n",
            "            \"Content\": \"As personal information is collected, you will be asked to confirm that your information is correct prior to submitting it to Presight. \",\n",
            "            \"Subheaders\": []\n",
            "        },\n",
            "        {\n",
            "            \"Title\": \"Access to Personal Information\",\n",
            "            \"Content\": \"\",\n",
            "            \"Subheaders\": [\n",
            "                {\n",
            "                    \"Title\": \"Accessing Your Personal Information\",\n",
            "                    \"Content\": \"You have the right to access all of your personal information that we hold. Through the application, you can correct, amend, or append your personal information by logging into the application and navigating to your settings and profile. \"\n",
            "                },\n",
            "                {\n",
            "                    \"Title\": \"Automated Edit Checks\",\n",
            "                    \"Content\": \"Presight employs automated edit checks to ensure that data entry fields are completed properly when collecting personal information. These edit checks help maintain data integrity and accuracy. You are encouraged to provide complete and valid information to ensure the smooth processing of their personal data. \"\n",
            "                }\n",
            "            ]\n",
            "        },\n",
            "        {\n",
            "            \"Title\": \"Disclosure of Information\",\n",
            "            \"Content\": \"We may disclose your application data to third-party service providers who help us provide our services such as Datadog, AWS, Google Cloud and Google Workspace. We may also disclose your information in response to a legal request, such as a subpoena or court order, or to protect our rights or the rights of others. \",\n",
            "            \"Subheaders\": []\n",
            "        },\n",
            "        {\n",
            "            \"Title\": \"Sharing of Personal Data\",\n",
            "            \"Content\": \"Your personal data will not be subject to sharing, transfer, rental or exchange for the benefit of third parties, including AI models. \",\n",
            "            \"Subheaders\": []\n",
            "        },\n",
            "        {\n",
            "            \"Title\": \"Google User Data and Google Workspace APIs\",\n",
            "            \"Content\": \"In all cases when users authenticate the platform to Google Workspace, the following applies: We do not retain or use Google User Data to develop, improve, or train generalized/non-personalized AI and/or ML models.; We do not use Google Workspace APIs to develop, improve, or train generalized/non-personalized AI and/or ML models.; We do not transfer Google User Data to third-party AI tools for the purpose of developing, improving, or training generalized or non-personalized AI and/or ML models.; \",\n",
            "            \"Subheaders\": []\n",
            "        },\n",
            "        {\n",
            "            \"Title\": \"Data Security\",\n",
            "            \"Content\": \"All data is encrypted both in transit and at rest, using industry-standard encryption methods.; We regularly perform security audits and vulnerability assessments to ensure the safety of our platform and the data stored within it.; Our employees are trained on best practices for data security, and access to customer data is restricted on a need-to-know basis.; \",\n",
            "            \"Subheaders\": []\n",
            "        },\n",
            "        {\n",
            "            \"Title\": \"Data Retention & Disposal\",\n",
            "            \"Content\": \"Customer data is retained for as long as the account is in active status. Data enters an âexpiredâ state when the account is voluntarily closed. Expired account data will be retained for 60 days. After this period, the account and related data will be removed. \",\n",
            "            \"Subheaders\": []\n",
            "        },\n",
            "        {\n",
            "            \"Title\": \"Quality, Including Data Subjects' Responsibilities for Quality\",\n",
            "            \"Content\": \"We are committed to maintaining the quality and accuracy of the personal information we collect and process.; We rely on data subjects to provide accurate and up-to-date information.; Data subjects have the responsibility to inform us of any changes or inaccuracies in their personal data.; If you believe that any information we hold about you is inaccurate, incomplete, or outdated, please contact us promptly to rectify the information.; \",\n",
            "            \"Subheaders\": []\n",
            "        },\n",
            "        {\n",
            "            \"Title\": \"Monitoring and Enforcement\",\n",
            "            \"Content\": \"We regularly monitor its data processing activities to ensure compliance with this privacy policy and applicable data protection laws.; In the event of a data breach or any unauthorized access to your personal information, we will notify you and the appropriate authorities as required by law.; We committed to cooperating with data protection authorities and complying with their advice and decisions regarding data protection and privacy matters.; \",\n",
            "            \"Subheaders\": []\n",
            "        },\n",
            "        {\n",
            "            \"Title\": \"Cookies\",\n",
            "            \"Content\": \"We use cookies to enhance your experience on our website. You can control the use of cookies through your web browser settings. \",\n",
            "            \"Subheaders\": []\n",
            "        },\n",
            "        {\n",
            "            \"Title\": \"Third-Party Websites\",\n",
            "            \"Content\": \"Our website may contain links to third-party websites. We are not responsible for the privacy practices or content of those websites. \",\n",
            "            \"Subheaders\": []\n",
            "        },\n",
            "        {\n",
            "            \"Title\": \"Changes to Privacy Policy\",\n",
            "            \"Content\": \"We may update this Privacy Policy from time to time. The updated Privacy Policy will be posted on our website. \",\n",
            "            \"Subheaders\": []\n",
            "        },\n",
            "        {\n",
            "            \"Title\": \"Contact Us\",\n",
            "            \"Content\": \"If you have any questions about this Privacy Policy, please contact us through the customer portal or by email at presight@presight.io. \",\n",
            "            \"Subheaders\": []\n",
            "        },\n",
            "        {\n",
            "            \"Title\": \"Purposeful Use Only\",\n",
            "            \"Content\": \"We commit to only use personal information for the purposes identified in the entity's privacy policy. Presight.io 2022 All Rights Reserved Ho Chi Minh City, Vietnam Singapore Seattle, WA, USA \",\n",
            "            \"Subheaders\": []\n",
            "        }\n",
            "    ]\n",
            "}\n"
          ]
        }
      ]
    },
    {
      "cell_type": "code",
      "source": [
        "# Write the JSON data to a file\n",
        "output_file = \"privacy_policy.json\"\n",
        "\n",
        "with open(output_file, \"w\", encoding=\"utf-8\") as file:\n",
        "    json.dump(result, file, indent=4, ensure_ascii=False)\n",
        "\n",
        "print(f\"Data has been written to {output_file}\")"
      ],
      "metadata": {
        "colab": {
          "base_uri": "https://localhost:8080/"
        },
        "id": "eFuA2rOuv3I4",
        "outputId": "b5bba2f5-5dd3-4f3a-fa62-a1cfa73b7634"
      },
      "execution_count": null,
      "outputs": [
        {
          "output_type": "stream",
          "name": "stdout",
          "text": [
            "Data has been written to privacy_policy.json\n"
          ]
        }
      ]
    },
    {
      "cell_type": "markdown",
      "source": [
        "### Embedding data and developing chatbot"
      ],
      "metadata": {
        "id": "o3baEoVvwD2U"
      }
    },
    {
      "cell_type": "markdown",
      "source": [
        "#### Load API Key"
      ],
      "metadata": {
        "id": "gjHuugJyzBeb"
      }
    },
    {
      "cell_type": "code",
      "source": [
        "# Load API key from environment variables\n",
        "dotenv.load_dotenv()\n",
        "api_key_2 = os.getenv('CHAT_API_KEY')\n",
        "\n",
        "if not api_key_2:\n",
        "    raise ValueError(\"API key not found. Please set the 'CHAT_API_KEY' environment variable.\")"
      ],
      "metadata": {
        "id": "KMP5U52OzQjN"
      },
      "execution_count": null,
      "outputs": []
    },
    {
      "cell_type": "markdown",
      "source": [
        "#### Develop chatbot"
      ],
      "metadata": {
        "id": "XLYCLnWdzUFL"
      }
    },
    {
      "cell_type": "code",
      "execution_count": null,
      "metadata": {
        "id": "bu5Jy_WK3GUm"
      },
      "outputs": [],
      "source": [
        "class PrivacyPolicyAssistant:\n",
        "    def __init__(self, model_name=\"all-MiniLM-L6-v2\", title_weight=2, thresh_hold=0.5, genai_api_key=\"\", file_path=\"privacy_policy.json\", max_file_size=1048576):\n",
        "        \"\"\"\n",
        "        Initializes the PrivacyPolicyAssistant.\n",
        "\n",
        "        Args:\n",
        "            model_name (str): Name of the transformer model for embeddings.\n",
        "            title_weight (float): Weight for title embeddings in relevance calculations.\n",
        "            thresh_hold (float): Similarity threshold for relevance.\n",
        "            genai_api_key (str): API key for the generative AI model.\n",
        "            file_path (str): Path to the privacy policy JSON file.\n",
        "            max_file_size (int): Maximum size for saved history files (in bytes).\n",
        "\n",
        "        Returns:\n",
        "            None\n",
        "        \"\"\"\n",
        "        self.title_weight = title_weight\n",
        "        self.thresh_hold = thresh_hold\n",
        "        self.documents = []\n",
        "        self.embeddings = None\n",
        "        self.model = SentenceTransformer(model_name)\n",
        "        genai.configure(api_key=genai_api_key)\n",
        "        self.generative_model = genai.GenerativeModel(\"gemini-1.5-flash\")\n",
        "        self.file_path = file_path\n",
        "        self.max_file_size = max_file_size\n",
        "        self._prepare_and_embed_data()\n",
        "\n",
        "    def _load_json(self):\n",
        "        \"\"\"\n",
        "        Loads the privacy policy JSON data from the specified file.\n",
        "        \"\"\"\n",
        "        with open(self.file_path, \"r\", encoding=\"utf-8\") as file:\n",
        "            return json.load(file)\n",
        "\n",
        "    def _prepare_and_embed_data(self):\n",
        "        \"\"\"\n",
        "        Processes the privacy policy sections into documents and computes their embeddings.\n",
        "        Combines titles, contents, and subheaders to generate meaningful embeddings\n",
        "        for similarity-based querying.\n",
        "        \"\"\"\n",
        "        documents = []\n",
        "        embeddings = []\n",
        "        data = self._load_json()[\"PRIVACY POLICY\"]\n",
        "\n",
        "        for section in data:\n",
        "            title = section.get(\"Title\", \"\")\n",
        "            content = section.get(\"Content\", \"\")\n",
        "            subheaders = section.get(\"Subheaders\", [])\n",
        "            if not subheaders:\n",
        "              # Handles sections without subheaders\n",
        "                combined_text = f\"{title} {content}\"\n",
        "                documents.append({\"text\": combined_text, \"context\": title})\n",
        "                # Adding weight to title to meet users' basic needs for concepts and definitions, avoiding information noise\n",
        "                embeddings.append(self.model.encode(title) * self.title_weight + self.model.encode(content))\n",
        "            else:\n",
        "              # Handles sections with subheaders\n",
        "                for subheader in subheaders:\n",
        "                    sub_title = subheader.get(\"Title\", \"\")\n",
        "                    sub_content = subheader.get(\"Content\", \"\")\n",
        "                    documents.append({\"text\": sub_content, \"context\": sub_title})\n",
        "                    embeddings.append(self.model.encode(sub_title) * self.title_weight + self.model.encode(sub_content))\n",
        "\n",
        "                subheader_contents = \" \".join([f\"{sh['Title']}: {sh['Content']}\" for sh in subheaders])\n",
        "                header_combined_text = f\"{title} {content} {subheader_contents}\"\n",
        "                documents.append({\"text\": header_combined_text, \"context\": title})\n",
        "                embeddings.append(self.model.encode(title) * self.title_weight + self.model.encode(header_combined_text))\n",
        "\n",
        "        self.documents = documents\n",
        "        self.embeddings = np.array(embeddings)\n",
        "\n",
        "    def save_history(self, file_path, user_message, bot_response):\n",
        "      \"\"\"\n",
        "        Saves a user-bot conversation history into a JSON file.\n",
        "\n",
        "        Args:\n",
        "            file_path (str): Path to the file where history will be saved.\n",
        "            user_message (str): User's query or message.\n",
        "            bot_response (str): Generated response to the user's query.\n",
        "\n",
        "        Returns:\n",
        "            None\n",
        "        \"\"\"\n",
        "      new_exchange = {\"user\": user_message, \"bot\": bot_response}\n",
        "      new_content = json.dumps(new_exchange, indent=4)\n",
        "\n",
        "      if os.path.exists(file_path):\n",
        "          current_size = os.path.getsize(file_path)\n",
        "          write_mode = \"a\"\n",
        "      else:\n",
        "          current_size = 0\n",
        "          write_mode = \"w\"\n",
        "\n",
        "      new_content_size = len(new_content.encode(\"utf-8\"))\n",
        "      if current_size + new_content_size > self.max_file_size:\n",
        "          print(f\"Alert: File size limit of {self.max_file_size} bytes exceeded. Save aborted.\")\n",
        "          return\n",
        "\n",
        "      else:\n",
        "            if write_mode == \"a\":\n",
        "                # If the file exists and is not empty, append new data to the existing JSON array\n",
        "              with open(file_path, \"r+\", encoding=\"utf-8\") as f:\n",
        "                  f.seek(0, os.SEEK_END)\n",
        "                  f.seek(f.tell() - 1, os.SEEK_SET) # Adjusts the file pointer to overwrite the closing bracket\n",
        "                  f.truncate()\n",
        "                  f.write(\",\\n\")\n",
        "                  f.write(new_content)\n",
        "                  f.write(\"\\n]\")\n",
        "            else:\n",
        "                with open(file_path, write_mode, encoding=\"utf-8\") as f:\n",
        "                    f.write(\"[\\n\")\n",
        "                    f.write(new_content)\n",
        "                    f.write(\"\\n]\")\n",
        "\n",
        "    def find_most_relevant(self, query):\n",
        "        \"\"\"\n",
        "        Finds the most relevant privacy policy section for the given query using cosine similarity.\n",
        "\n",
        "        Args:\n",
        "            query (str): The user's query for which relevance is evaluated.\n",
        "\n",
        "        Returns:\n",
        "            tuple: A dictionary of the most relevant document and its similarity score.\n",
        "        \"\"\"\n",
        "        query_embedding = self.model.encode(query)\n",
        "        similarities = cosine_similarity([query_embedding], self.embeddings).flatten()\n",
        "        most_relevant_idx = np.argmax(similarities)\n",
        "        return self.documents[most_relevant_idx], similarities[most_relevant_idx]\n",
        "\n",
        "    def make_request(self, query):\n",
        "        \"\"\"\n",
        "        Generates a response to the user's query based on the most relevant privacy policy section or fallback logic.\n",
        "        Args:\n",
        "            query (str): The user's query for the assistant.\n",
        "        Returns:\n",
        "            None\n",
        "        \"\"\"\n",
        "        result, similarity = self.find_most_relevant(query)\n",
        "        if similarity > self.thresh_hold:\n",
        "            prompt = (f\"You are an assistant about company privacy policy. Answer {query} based on this mock answer {result}.\")\n",
        "        else:\n",
        "          # Handle cases where questions contain context about the information above\n",
        "          if \"this\" in query or \"that\" in query or \"above\" in query:\n",
        "            history = json.load(open(\"conversation_history.json\",\"r\"))\n",
        "            if len(history) > 0:\n",
        "              current_ques=history[-1][\"user\"]\n",
        "              current_ans=history[-1][\"bot\"]\n",
        "              prompt = (f\"You are an assitant about company privacy policy. Your task is to answer {query} which is sequenced from {current_ques} and your current answer {current_ans}\")\n",
        "            else:\n",
        "              print(\"Please give me further information about your context!!!\")\n",
        "          else:\n",
        "            # Provides a generic response with a link for more information\n",
        "            prompt = (f\"You are an assitant about company privacy policy. Your task is to answer {query} and then told \\\"If you want to get further information about {query}, please visit our website https://www.presight.io/privacy-policy.html\\\"\")\n",
        "\n",
        "        try:\n",
        "            response = self.generative_model.generate_content(prompt)\n",
        "            print(response.text)\n",
        "            self.save_history(\"conversation_history.json\",query,response.text)\n",
        "\n",
        "        except Exception as e:\n",
        "            print(f\"Error generating response: {e}\")\n"
      ]
    },
    {
      "cell_type": "markdown",
      "source": [
        "#### Example"
      ],
      "metadata": {
        "id": "QQARcYEg0sQI"
      }
    },
    {
      "cell_type": "code",
      "source": [
        "# Usage example\n",
        "assistant = PrivacyPolicyAssistant(genai_api_key=api_key_2)\n",
        "query = \"What is Personal Data?\"\n",
        "assistant.make_request(query)"
      ],
      "metadata": {
        "colab": {
          "base_uri": "https://localhost:8080/",
          "height": 73
        },
        "id": "9r-Sf4Pn4Y4b",
        "outputId": "3039abba-a53b-4ec3-da86-ff0a43246508"
      },
      "execution_count": null,
      "outputs": [
        {
          "output_type": "stream",
          "name": "stdout",
          "text": [
            "Personal Data, as used in our Service's privacy policy, refers to information that can be used to contact or identify you.  This includes, but is not limited to, your email address, first and last name, phone number, address (including state, province, ZIP/Postal code, and city), and cookies and usage data.\n",
            "\n"
          ]
        }
      ]
    },
    {
      "cell_type": "code",
      "source": [
        "# Query with previous context\n",
        "query_2 = \"Explain further about this?\"\n",
        "assistant.make_request(query_2)"
      ],
      "metadata": {
        "id": "Fdwpcw4LrfDF",
        "colab": {
          "base_uri": "https://localhost:8080/",
          "height": 491
        },
        "outputId": "56ffb87b-69d2-470a-9b08-4f65d7be11b5"
      },
      "execution_count": null,
      "outputs": [
        {
          "output_type": "stream",
          "name": "stdout",
          "text": [
            "Explain further about this?\n",
            "\n",
            "My previous response defined Personal Data as information that can identify or contact you. Let's break that down further and clarify some points:\n",
            "\n",
            "**1.  Information used to *contact* you:** This refers to data that allows someone to reach you directly.  Examples already given include email address and phone number.  It could also include social media handles (if provided) or instant messaging usernames, depending on how the service uses that information.\n",
            "\n",
            "**2. Information used to *identify* you:** This goes beyond simply contacting you.  It involves information that uniquely pinpoints you as an individual. This includes:\n",
            "\n",
            "* **Name:** Your first and last name are the most obvious identifiers.  Middle names, nicknames (if explicitly provided), and maiden names (if relevant and provided) could also fall under this category.\n",
            "\n",
            "* **Address:**  A full address (street address, city, state/province, ZIP/postal code) allows for precise geographic identification.  Even partial addresses (e.g., only city and state) could contribute to identifying you, especially when combined with other data points.\n",
            "\n",
            "* **Cookies and Usage Data:** This is a more complex category.  Cookies are small files stored on your device by websites.  They track your browsing activity on that specific site.  Usage data encompasses broader information about how you interact with our service, including the pages you visit, features you use, and the time spent on those activities. While this data may not directly identify you on its own, it can become personally identifiable when linked with other information, such as your IP address or user ID.\n",
            "\n",
            "**3.  \"This includes, but is not limited to...\"**:  This crucial phrase highlights that the list provided (email, name, phone number, address, cookies, usage data) is not exhaustive. Other information could be considered Personal Data depending on its nature and how it's used.  For example:\n",
            "\n",
            "* **IP Address:** Your IP address can be used to roughly pinpoint your location and can be linked to other information to identify you.\n",
            "* **Device Information:**  Information about the device you use to access our service (e.g., device type, operating system, browser) might be considered Personal Data, especially when combined with other identifiers.\n",
            "* **Location Data:**  If you enable location services, your precise location may be collected and constitute Personal Data.\n",
            "* **Payment Information:**  If you make purchases through our service, your payment details (credit card numbers, bank account information) are definitely considered Personal Data and are handled with extra security measures.\n",
            "* **Biometric Data:**  If the service uses biometric data (fingerprints, facial recognition), this would be highly sensitive Personal Data.\n",
            "\n",
            "\n",
            "It's important to understand that the specific types of Personal Data we collect will be clearly outlined in our complete privacy policy.  This explanation provides a general overview.  If you have any questions about specific types of data we collect or how we use it, please refer to the full privacy policy or contact us directly.\n",
            "\n"
          ]
        }
      ]
    },
    {
      "cell_type": "code",
      "source": [
        "# Query about information not in the data\n",
        "query_3 = \"What is policy?\"\n",
        "assistant.make_request(query_3)"
      ],
      "metadata": {
        "colab": {
          "base_uri": "https://localhost:8080/",
          "height": 110
        },
        "id": "LXrGYX8lzaCf",
        "outputId": "11d12ad9-9c23-42c2-b200-f70b8b15ad05"
      },
      "execution_count": null,
      "outputs": [
        {
          "output_type": "stream",
          "name": "stdout",
          "text": [
            "A privacy policy is a legal statement that explains how a company collects, uses, and protects the personal information of its users or customers.  It outlines what data is collected, why it's collected, who has access to it, and how users can control their information.  Compliance with privacy policies is crucial for maintaining trust and adhering to relevant data protection laws and regulations.\n",
            "\n",
            "If you want to get further information about what our specific privacy policy entails, please visit our website https://www.presight.io/privacy-policy.html\n",
            "\n"
          ]
        }
      ]
    },
    {
      "cell_type": "code",
      "source": [
        "# Yes/ No question\n",
        "query_4 = \"Do I need to provide my Email Address in Personal Data?\"\n",
        "assistant.make_request(query_4)"
      ],
      "metadata": {
        "colab": {
          "base_uri": "https://localhost:8080/",
          "height": 73
        },
        "id": "rT9Q9DaPl9Pu",
        "outputId": "be64a08f-b409-4ac3-b81a-fc79b875ca0e"
      },
      "execution_count": null,
      "outputs": [
        {
          "output_type": "stream",
          "name": "stdout",
          "text": [
            "Based on the provided text, yes, you may need to provide your email address as part of your Personal Data when using the service.  The text explicitly lists \"Email address\" as an example of personally identifiable information that may be requested.\n",
            "\n"
          ]
        }
      ]
    },
    {
      "cell_type": "code",
      "source": [
        "# Print out the history conversation\n",
        "json.load(open(\"conversation_history.json\",\"r\"))"
      ],
      "metadata": {
        "colab": {
          "base_uri": "https://localhost:8080/"
        },
        "id": "9kCri7jPznW4",
        "outputId": "d291e10d-0501-41b2-e753-8ee7b1d1fcf2"
      },
      "execution_count": null,
      "outputs": [
        {
          "output_type": "execute_result",
          "data": {
            "text/plain": [
              "[{'user': 'What is Personal Data?',\n",
              "  'bot': \"Personal Data, as used in our Service's privacy policy, refers to information that can be used to contact or identify you.  This includes, but is not limited to, your email address, first and last name, phone number, address (including state, province, ZIP/Postal code, and city), and cookies and usage data.\\n\"},\n",
              " {'user': 'Explain further about this?',\n",
              "  'bot': 'Explain further about this?\\n\\nMy previous response defined Personal Data as information that can identify or contact you. Let\\'s break that down further and clarify some points:\\n\\n**1.  Information used to *contact* you:** This refers to data that allows someone to reach you directly.  Examples already given include email address and phone number.  It could also include social media handles (if provided) or instant messaging usernames, depending on how the service uses that information.\\n\\n**2. Information used to *identify* you:** This goes beyond simply contacting you.  It involves information that uniquely pinpoints you as an individual. This includes:\\n\\n* **Name:** Your first and last name are the most obvious identifiers.  Middle names, nicknames (if explicitly provided), and maiden names (if relevant and provided) could also fall under this category.\\n\\n* **Address:**  A full address (street address, city, state/province, ZIP/postal code) allows for precise geographic identification.  Even partial addresses (e.g., only city and state) could contribute to identifying you, especially when combined with other data points.\\n\\n* **Cookies and Usage Data:** This is a more complex category.  Cookies are small files stored on your device by websites.  They track your browsing activity on that specific site.  Usage data encompasses broader information about how you interact with our service, including the pages you visit, features you use, and the time spent on those activities. While this data may not directly identify you on its own, it can become personally identifiable when linked with other information, such as your IP address or user ID.\\n\\n**3.  \"This includes, but is not limited to...\"**:  This crucial phrase highlights that the list provided (email, name, phone number, address, cookies, usage data) is not exhaustive. Other information could be considered Personal Data depending on its nature and how it\\'s used.  For example:\\n\\n* **IP Address:** Your IP address can be used to roughly pinpoint your location and can be linked to other information to identify you.\\n* **Device Information:**  Information about the device you use to access our service (e.g., device type, operating system, browser) might be considered Personal Data, especially when combined with other identifiers.\\n* **Location Data:**  If you enable location services, your precise location may be collected and constitute Personal Data.\\n* **Payment Information:**  If you make purchases through our service, your payment details (credit card numbers, bank account information) are definitely considered Personal Data and are handled with extra security measures.\\n* **Biometric Data:**  If the service uses biometric data (fingerprints, facial recognition), this would be highly sensitive Personal Data.\\n\\n\\nIt\\'s important to understand that the specific types of Personal Data we collect will be clearly outlined in our complete privacy policy.  This explanation provides a general overview.  If you have any questions about specific types of data we collect or how we use it, please refer to the full privacy policy or contact us directly.\\n'},\n",
              " {'user': 'What is policy?',\n",
              "  'bot': \"A privacy policy is a legal statement that explains how a company collects, uses, and protects the personal information of its users or customers.  It outlines what data is collected, why it's collected, who has access to it, and how users can control their information.  Compliance with privacy policies is crucial for maintaining trust and adhering to relevant data protection laws and regulations.\\n\\nIf you want to get further information about what our specific privacy policy entails, please visit our website https://www.presight.io/privacy-policy.html\\n\"},\n",
              " {'user': 'Do I need to provide my Email Address in Personal Data?',\n",
              "  'bot': 'Based on the provided text, yes, you may need to provide your email address as part of your Personal Data when using the service.  The text explicitly lists \"Email address\" as an example of personally identifiable information that may be requested.\\n'}]"
            ]
          },
          "metadata": {},
          "execution_count": 77
        }
      ]
    }
  ]
}