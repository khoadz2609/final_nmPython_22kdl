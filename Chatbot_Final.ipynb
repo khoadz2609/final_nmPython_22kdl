{
  "nbformat": 4,
  "nbformat_minor": 0,
  "metadata": {
    "colab": {
      "provenance": []
    },
    "kernelspec": {
      "name": "python3",
      "display_name": "Python 3"
    },
    "language_info": {
      "name": "python"
    }
  },
  "cells": [
    {
      "cell_type": "markdown",
      "source": [
        "<div style=\"text-align: center;\">\n",
        "  <h2><b>Ho Chi Minh University of Science</b></h2>\n",
        "  <h3><b>Mathematics & Computer Science Faculty</b></h3>\n",
        "  <img src='https://th.bing.com/th/id/R.7298e6a7f00d000e22456c9977085835?rik=DqP9BjBZsGKPxw&pid=ImgRaw&r=0' width=\"250px\">\n",
        "  <h1><b>COURSE PROJECT: PYTHON FOR DATA SCIENCE</b></h1>\n",
        "  <ul style=\"list-style-type: none; padding: 0;\">\n",
        "    <li>\n",
        "      <table style=\"margin: 0 auto; border-collapse: collapse; width: 50%;\">\n",
        "        <thead>\n",
        "          <tr>\n",
        "            <th style=\"border: 1px solid black; padding: 8px;\">Full Name</th>\n",
        "            <th style=\"border: 1px solid black; padding: 8px;\">Student ID</th>\n",
        "          </tr>\n",
        "        </thead>\n",
        "        <tbody>\n",
        "          <tr>\n",
        "            <td style=\"border: 1px solid black; padding: 8px;\">Nguyễn Lê Lâm Phúc</td>\n",
        "            <td style=\"border: 1px solid black; padding: 8px;\">22280066</td>\n",
        "          </tr>\n",
        "          <tr>\n",
        "            <td style=\"border: 1px solid black; padding: 8px;\">Mạc Minh Phúc</td>\n",
        "            <td style=\"border: 1px solid black; padding: 8px;\">22280065</td>\n",
        "          </tr>\n",
        "          <tr>\n",
        "            <td style=\"border: 1px solid black; padding: 8px;\">Trần Đại Lộc</td>\n",
        "            <td style=\"border: 1px solid black; padding: 8px;\">22280053</td>\n",
        "          </tr>\n",
        "          <tr>\n",
        "            <td style=\"border: 1px solid black; padding: 8px;\">Nguyễn Lê Đăng Khoa</td>\n",
        "            <td style=\"border: 1px solid black; padding: 8px;\">22280047</td>\n",
        "          </tr>\n",
        "        </tbody>\n",
        "      </table>\n",
        "    </li>\n",
        "  </ul>\n",
        "</div>\n"
      ],
      "metadata": {
        "id": "j3ikSDjRmGqq"
      }
    },
    {
      "cell_type": "markdown",
      "source": [
        "Link code: https://colab.research.google.com/drive/1gW6h87Hf4Glf2dqNvZFF2mECtX2--zyM#scrollTo=TXyfP-P3oLfp"
      ],
      "metadata": {
        "id": "YN-iVWYz-TdI"
      }
    },
    {
      "cell_type": "markdown",
      "source": [
        "##**Question 2:** Chatbot Development"
      ],
      "metadata": {
        "id": "TqUMh_9OsdOX"
      }
    },
    {
      "cell_type": "markdown",
      "source": [
        "### Import libraries"
      ],
      "metadata": {
        "id": "P-avjhyQtqMa"
      }
    },
    {
      "cell_type": "code",
      "source": [
        "!pip install python-dotenv"
      ],
      "metadata": {
        "colab": {
          "base_uri": "https://localhost:8080/"
        },
        "id": "nrqnqpJSCp7K",
        "outputId": "eb4f1aba-631e-475d-8307-87a1af157fde"
      },
      "execution_count": null,
      "outputs": [
        {
          "output_type": "stream",
          "name": "stdout",
          "text": [
            "Requirement already satisfied: python-dotenv in /usr/local/lib/python3.10/dist-packages (1.0.1)\n"
          ]
        }
      ]
    },
    {
      "cell_type": "code",
      "source": [
        "!pip install bs4"
      ],
      "metadata": {
        "colab": {
          "base_uri": "https://localhost:8080/"
        },
        "id": "ejrjM42l0Co8",
        "outputId": "69b76c79-3092-4a27-f402-c050293e19bf"
      },
      "execution_count": null,
      "outputs": [
        {
          "output_type": "stream",
          "name": "stdout",
          "text": [
            "Requirement already satisfied: bs4 in /usr/local/lib/python3.10/dist-packages (0.0.2)\n",
            "Requirement already satisfied: beautifulsoup4 in /usr/local/lib/python3.10/dist-packages (from bs4) (4.12.3)\n",
            "Requirement already satisfied: soupsieve>1.2 in /usr/local/lib/python3.10/dist-packages (from beautifulsoup4->bs4) (2.6)\n"
          ]
        }
      ]
    },
    {
      "cell_type": "code",
      "source": [
        "import json\n",
        "import numpy as np\n",
        "from sklearn.metrics.pairwise import cosine_similarity\n",
        "from sentence_transformers import SentenceTransformer\n",
        "import google.generativeai as genai\n",
        "import os\n",
        "from bs4 import BeautifulSoup\n",
        "import requests\n",
        "import dotenv"
      ],
      "metadata": {
        "id": "ZPbkXMww3ILE"
      },
      "execution_count": null,
      "outputs": []
    },
    {
      "cell_type": "markdown",
      "source": [
        "### Crawling data"
      ],
      "metadata": {
        "id": "Y7Y4zPbrt1Ue"
      }
    },
    {
      "cell_type": "code",
      "source": [
        "# Get the website URL\n",
        "url='https://www.presight.io/privacy-policy.html'\n",
        "result= requests.get(url)\n",
        "soup=BeautifulSoup(result.text,'html.parser')"
      ],
      "metadata": {
        "id": "1tu7Y2z00Fbj"
      },
      "execution_count": null,
      "outputs": []
    },
    {
      "cell_type": "code",
      "source": [
        "def parse_elements(elements):\n",
        "    \"\"\"\n",
        "    Parse elements from HTML and structure them into a JSON format.\n",
        "\n",
        "    Args:\n",
        "        elements (list): List of HTML elements to parse.\n",
        "\n",
        "    Returns:\n",
        "        dict: Parsed data structured as a JSON.\n",
        "    \"\"\"\n",
        "    data = {\"PRIVACY POLICY\": []}\n",
        "    prev_element = None\n",
        "    current_header = None\n",
        "\n",
        "    # Skip unnecessary part, find and crawl only relevant data\n",
        "    for element in elements[3:]:\n",
        "        if element.name == 'i':\n",
        "            handle_italic_element(element, current_header, prev_element)\n",
        "        elif element.name == 'h2':\n",
        "            current_header = handle_header_element(element, prev_element, current_header, data)\n",
        "        elif element.name in ['p', 'li']:\n",
        "            handle_content_element(element, current_header)\n",
        "\n",
        "        prev_element = element\n",
        "\n",
        "    if current_header:\n",
        "        data[\"PRIVACY POLICY\"].append(current_header)\n",
        "\n",
        "    return data\n",
        "\n",
        "def handle_italic_element(element, current_header, prev_element):\n",
        "    \"\"\"\n",
        "    Handle italic elements (<i> tags) and add them as subheaders to construct a more reasonable JSON file.\n",
        "\n",
        "    Args:\n",
        "        element (bs4.element.Tag): The <i> element to process.\n",
        "        current_header (dict): The current header being processed.\n",
        "        prev_element (bs4.element.Tag): The previous element.\n",
        "    \"\"\"\n",
        "    if current_header:\n",
        "        current_header[\"Subheaders\"].append({\n",
        "            \"Title\": element.text.strip(),\n",
        "            \"Content\": \"\"\n",
        "        })\n",
        "    else:\n",
        "        current_header = {\n",
        "            \"Title\": prev_element.text.strip(),\n",
        "            \"Subheaders\": [\n",
        "                {\"Title\": element.text.strip(), \"Content\": \"\"}\n",
        "            ]\n",
        "        }\n",
        "\n",
        "def handle_header_element(element, prev_element, current_header, data):\n",
        "    \"\"\"\n",
        "    Handle header elements (<h2> tags) and structure them accordingly.\n",
        "\n",
        "    Args:\n",
        "        element (bs4.element.Tag): The <h2> element to process.\n",
        "        prev_element (bs4.element.Tag): The previous element.\n",
        "        current_header (dict): The current header being processed.\n",
        "        data (dict): The main data dictionary.\n",
        "\n",
        "    Returns:\n",
        "        dict: Updated current header.\n",
        "    \"\"\"\n",
        "    if element.text == \"Automated Edit Checks\":\n",
        "        if current_header:\n",
        "            current_header[\"Subheaders\"].append({\n",
        "                \"Title\": element.text.strip(),\n",
        "                \"Content\": \"\"\n",
        "            })\n",
        "    elif prev_element and prev_element.name == 'h2':\n",
        "        if current_header:\n",
        "            current_header[\"Subheaders\"].append({\n",
        "                \"Title\": element.text.strip(),\n",
        "                \"Content\": \"\"\n",
        "            })\n",
        "        else:\n",
        "            current_header = {\n",
        "                \"Title\": prev_element.text.strip(),\n",
        "                \"Subheaders\": [\n",
        "                    {\"Title\": element.text.strip(), \"Content\": \"\"}\n",
        "                ]\n",
        "            }\n",
        "    else:\n",
        "        if current_header:\n",
        "            data[\"PRIVACY POLICY\"].append(current_header)\n",
        "        current_header = {\"Title\": element.text.strip(), \"Content\": \"\", \"Subheaders\": []}\n",
        "\n",
        "    return current_header\n",
        "\n",
        "def handle_content_element(element, current_header):\n",
        "    \"\"\"\n",
        "    Handle content elements (<p> and <li> tags) and add content to the appropriate section.\n",
        "\n",
        "    Args:\n",
        "        element (bs4.element.Tag): The content element to process.\n",
        "        current_header (dict): The current header being processed.\n",
        "    \"\"\"\n",
        "    if current_header:\n",
        "        if current_header[\"Subheaders\"]:\n",
        "            current_header[\"Subheaders\"][-1][\"Content\"] += element.text.strip() + (\"; \" if element.name == 'li' else \" \")\n",
        "        else:\n",
        "            current_header[\"Content\"] += element.text.strip() + (\"; \" if element.name == 'li' else \" \")\n",
        "\n",
        "def split_first_element(data):\n",
        "    \"\"\"\n",
        "    Splits the first element in the PRIVACY POLICY into two distinct elements.\n",
        "\n",
        "    Args:\n",
        "        data (dict): The original JSON data.\n",
        "\n",
        "    Returns:\n",
        "        dict: Updated JSON data with the first element split.\n",
        "    \"\"\"\n",
        "    result = {\"PRIVACY POLICY\": []}\n",
        "    for entry in data[\"PRIVACY POLICY\"]:\n",
        "        if entry[\"Title\"].startswith(\"Last updated\"):\n",
        "            result[\"PRIVACY POLICY\"].append({\n",
        "                \"Title\": \"Update date\",\n",
        "                \"Content\": entry[\"Title\"],\n",
        "                \"Subheaders\": []\n",
        "            })\n",
        "            result[\"PRIVACY POLICY\"].append({\n",
        "                \"Title\": \"Commitment\",\n",
        "                \"Content\": entry[\"Content\"],\n",
        "                \"Subheaders\": entry[\"Subheaders\"]\n",
        "            })\n",
        "        else:\n",
        "            result[\"PRIVACY POLICY\"].append(entry)\n",
        "\n",
        "    return result"
      ],
      "metadata": {
        "id": "fdAi4HV12-8P"
      },
      "execution_count": null,
      "outputs": []
    },
    {
      "cell_type": "code",
      "source": [
        "elements = soup.find_all(['p', 'h2', 'li', 'i'])\n",
        "parsed_data = parse_elements(elements)\n",
        "result = split_first_element(parsed_data)\n",
        "#Print first 3 elements in the JSON file\n",
        "print(json.dumps(result[\"PRIVACY POLICY\"][:3], indent=4, ensure_ascii=False))"
      ],
      "metadata": {
        "colab": {
          "base_uri": "https://localhost:8080/"
        },
        "id": "90wx51WUCbZy",
        "outputId": "e4ff67c6-9394-4acb-adf6-21b96ebb2199"
      },
      "execution_count": null,
      "outputs": [
        {
          "output_type": "stream",
          "name": "stdout",
          "text": [
            "[\n",
            "    {\n",
            "        \"Title\": \"Update date\",\n",
            "        \"Content\": \"Last updated 15 Sep 2023\",\n",
            "        \"Subheaders\": []\n",
            "    },\n",
            "    {\n",
            "        \"Title\": \"Commitment\",\n",
            "        \"Content\": \"At Presight, we are committed to protecting the privacy of our customers and visitors to our website. This Privacy Policy explains how we collect, use, and disclose information about our customers and visitors. \",\n",
            "        \"Subheaders\": []\n",
            "    },\n",
            "    {\n",
            "        \"Title\": \"Information Collection and Use\",\n",
            "        \"Content\": \"We collect several different types of information for various purposes to provide and improve our Service to you. \",\n",
            "        \"Subheaders\": []\n",
            "    }\n",
            "]\n"
          ]
        }
      ]
    },
    {
      "cell_type": "code",
      "source": [
        "# Write the JSON data to a file\n",
        "output_file = \"privacy_policy.json\"\n",
        "\n",
        "with open(output_file, \"w\", encoding=\"utf-8\") as file:\n",
        "    json.dump(result, file, indent=4, ensure_ascii=False)\n",
        "\n",
        "print(f\"Data has been written to {output_file}\")"
      ],
      "metadata": {
        "colab": {
          "base_uri": "https://localhost:8080/"
        },
        "id": "eFuA2rOuv3I4",
        "outputId": "82bbf46a-ac0b-41aa-f5eb-6c83c01e6476"
      },
      "execution_count": null,
      "outputs": [
        {
          "output_type": "stream",
          "name": "stdout",
          "text": [
            "Data has been written to privacy_policy.json\n"
          ]
        }
      ]
    },
    {
      "cell_type": "markdown",
      "source": [
        "### Embedding data and developing chatbot"
      ],
      "metadata": {
        "id": "o3baEoVvwD2U"
      }
    },
    {
      "cell_type": "markdown",
      "source": [
        "#### Load API Key"
      ],
      "metadata": {
        "id": "gjHuugJyzBeb"
      }
    },
    {
      "cell_type": "code",
      "source": [
        "# Load API key from environment variables\n",
        "dotenv.load_dotenv()\n",
        "api_key_2 = os.getenv('CHAT_API_KEY')\n",
        "\n",
        "if not api_key_2:\n",
        "    raise ValueError(\"API key not found. Please set the 'CHAT_API_KEY' environment variable.\")"
      ],
      "metadata": {
        "id": "KMP5U52OzQjN"
      },
      "execution_count": null,
      "outputs": []
    },
    {
      "cell_type": "markdown",
      "source": [
        "#### Develop chatbot"
      ],
      "metadata": {
        "id": "XLYCLnWdzUFL"
      }
    },
    {
      "cell_type": "code",
      "execution_count": null,
      "metadata": {
        "id": "bu5Jy_WK3GUm"
      },
      "outputs": [],
      "source": [
        "class PrivacyPolicyAssistant:\n",
        "    def __init__(self, model_name=\"all-MiniLM-L6-v2\", title_weight=2, thresh_hold=0.5, genai_api_key=\"\", file_path=\"privacy_policy.json\", max_file_size=1048576):\n",
        "        \"\"\"\n",
        "        Initializes the PrivacyPolicyAssistant.\n",
        "\n",
        "        Args:\n",
        "            model_name (str): Name of the transformer model for embeddings.\n",
        "            title_weight (float): Weight for title embeddings in relevance calculations.\n",
        "            thresh_hold (float): Similarity threshold for relevance.\n",
        "            genai_api_key (str): API key for the generative AI model.\n",
        "            file_path (str): Path to the privacy policy JSON file.\n",
        "            max_file_size (int): Maximum size for saved history files (in bytes).\n",
        "\n",
        "        Returns:\n",
        "            None\n",
        "        \"\"\"\n",
        "        self.title_weight = title_weight\n",
        "        self.thresh_hold = thresh_hold\n",
        "        self.documents = []\n",
        "        self.embeddings = None\n",
        "        self.model = SentenceTransformer(model_name)\n",
        "        genai.configure(api_key=genai_api_key)\n",
        "        self.generative_model = genai.GenerativeModel(\"gemini-1.5-flash\")\n",
        "        self.file_path = file_path\n",
        "        self.max_file_size = max_file_size\n",
        "        self._prepare_and_embed_data()\n",
        "\n",
        "    def _load_json(self):\n",
        "        \"\"\"\n",
        "        Loads the privacy policy JSON data from the specified file.\n",
        "        \"\"\"\n",
        "        with open(self.file_path, \"r\", encoding=\"utf-8\") as file:\n",
        "            return json.load(file)\n",
        "\n",
        "    def _prepare_and_embed_data(self):\n",
        "        \"\"\"\n",
        "        Processes the privacy policy sections into documents and computes their embeddings.\n",
        "        Combines titles, contents, and subheaders to generate meaningful embeddings\n",
        "        for similarity-based querying.\n",
        "        \"\"\"\n",
        "        documents = []\n",
        "        embeddings = []\n",
        "        data = self._load_json()[\"PRIVACY POLICY\"]\n",
        "\n",
        "        for section in data:\n",
        "            title = section.get(\"Title\", \"\")\n",
        "            content = section.get(\"Content\", \"\")\n",
        "            subheaders = section.get(\"Subheaders\", [])\n",
        "            if not subheaders:\n",
        "              # Handles sections without subheaders\n",
        "                combined_text = f\"{title} {content}\"\n",
        "                documents.append({\"text\": combined_text, \"context\": title})\n",
        "                # Adding weight to title to meet users' basic needs for concepts and definitions, avoiding information noise\n",
        "                embeddings.append(self.model.encode(title) * self.title_weight + self.model.encode(content))\n",
        "            else:\n",
        "              # Handles sections with subheaders\n",
        "                for subheader in subheaders:\n",
        "                    sub_title = subheader.get(\"Title\", \"\")\n",
        "                    sub_content = subheader.get(\"Content\", \"\")\n",
        "                    documents.append({\"text\": sub_content, \"context\": sub_title})\n",
        "                    embeddings.append(self.model.encode(sub_title) * self.title_weight + self.model.encode(sub_content))\n",
        "\n",
        "                subheader_contents = \" \".join([f\"{sh['Title']}: {sh['Content']}\" for sh in subheaders])\n",
        "                header_combined_text = f\"{title} {content} {subheader_contents}\"\n",
        "                documents.append({\"text\": header_combined_text, \"context\": title})\n",
        "                embeddings.append(self.model.encode(title) * self.title_weight + self.model.encode(header_combined_text))\n",
        "\n",
        "        self.documents = documents\n",
        "        self.embeddings = np.array(embeddings)\n",
        "\n",
        "    def save_history(self, file_path, user_message, bot_response):\n",
        "      \"\"\"\n",
        "        Saves a user-bot conversation history into a JSON file.\n",
        "\n",
        "        Args:\n",
        "            file_path (str): Path to the file where history will be saved.\n",
        "            user_message (str): User's query or message.\n",
        "            bot_response (str): Generated response to the user's query.\n",
        "\n",
        "        Returns:\n",
        "            None\n",
        "        \"\"\"\n",
        "      new_exchange = {\"user\": user_message, \"bot\": bot_response}\n",
        "      new_content = json.dumps(new_exchange, indent=4)\n",
        "\n",
        "      if os.path.exists(file_path):\n",
        "          current_size = os.path.getsize(file_path)\n",
        "          write_mode = \"a\"\n",
        "      else:\n",
        "          current_size = 0\n",
        "          write_mode = \"w\"\n",
        "\n",
        "      new_content_size = len(new_content.encode(\"utf-8\"))\n",
        "      if current_size + new_content_size > self.max_file_size:\n",
        "          print(f\"Alert: File size limit of {self.max_file_size} bytes exceeded. Save aborted.\")\n",
        "          return\n",
        "\n",
        "      else:\n",
        "            if write_mode == \"a\":\n",
        "                # If the file exists and is not empty, append new data to the existing JSON array\n",
        "              with open(file_path, \"r+\", encoding=\"utf-8\") as f:\n",
        "                  f.seek(0, os.SEEK_END)\n",
        "                  f.seek(f.tell() - 1, os.SEEK_SET) # Adjusts the file pointer to overwrite the closing bracket\n",
        "                  f.truncate()\n",
        "                  f.write(\",\\n\")\n",
        "                  f.write(new_content)\n",
        "                  f.write(\"\\n]\")\n",
        "            else:\n",
        "                with open(file_path, write_mode, encoding=\"utf-8\") as f:\n",
        "                    f.write(\"[\\n\")\n",
        "                    f.write(new_content)\n",
        "                    f.write(\"\\n]\")\n",
        "\n",
        "    def find_most_relevant(self, query):\n",
        "        \"\"\"\n",
        "        Finds the most relevant privacy policy section for the given query using cosine similarity.\n",
        "\n",
        "        Args:\n",
        "            query (str): The user's query for which relevance is evaluated.\n",
        "\n",
        "        Returns:\n",
        "            tuple: A dictionary of the most relevant document and its similarity score.\n",
        "        \"\"\"\n",
        "        query_embedding = self.model.encode(query)\n",
        "        similarities = cosine_similarity([query_embedding], self.embeddings).flatten()\n",
        "        most_relevant_idx = np.argmax(similarities)\n",
        "        return self.documents[most_relevant_idx], similarities[most_relevant_idx]\n",
        "\n",
        "    def make_request(self, query):\n",
        "        \"\"\"\n",
        "        Generates a response to the user's query based on the most relevant privacy policy section or fallback logic.\n",
        "        Args:\n",
        "            query (str): The user's query for the assistant.\n",
        "        Returns:\n",
        "            None\n",
        "        \"\"\"\n",
        "        result, similarity = self.find_most_relevant(query)\n",
        "        if similarity > self.thresh_hold:\n",
        "            prompt = (f\"You are an assistant about company privacy policy. Answer {query} based on this mock answer {result}.\")\n",
        "        else:\n",
        "          # Handle cases where questions contain context about the information above\n",
        "          if \"this\" in query or \"that\" in query or \"above\" in query:\n",
        "            history = json.load(open(\"conversation_history.json\",\"r\"))\n",
        "            if len(history) > 0:\n",
        "              current_ques=history[-1][\"user\"]\n",
        "              current_ans=history[-1][\"bot\"]\n",
        "              prompt = (f\"You are an assitant about company privacy policy. Your task is to answer {query} which is sequenced from {current_ques} and your current answer {current_ans}\")\n",
        "            else:\n",
        "              print(\"Please give me further information about your context!!!\")\n",
        "          else:\n",
        "            # Provides a generic response with a link for more information\n",
        "            prompt = (f\"You are an assitant about company privacy policy. Your task is to answer {query} and then told \\\"If you want to get further information about {query}, please visit our website https://www.presight.io/privacy-policy.html\\\"\")\n",
        "\n",
        "        try:\n",
        "            response = self.generative_model.generate_content(prompt)\n",
        "            print(response.text)\n",
        "            self.save_history(\"conversation_history.json\",query,response.text)\n",
        "\n",
        "        except Exception as e:\n",
        "            print(f\"Error generating response: {e}\")\n"
      ]
    },
    {
      "cell_type": "markdown",
      "source": [
        "#### Example"
      ],
      "metadata": {
        "id": "QQARcYEg0sQI"
      }
    },
    {
      "cell_type": "code",
      "source": [
        "# Usage example\n",
        "assistant = PrivacyPolicyAssistant(genai_api_key=api_key_2)\n",
        "query = \"What is Personal Data?\"\n",
        "assistant.make_request(query)"
      ],
      "metadata": {
        "colab": {
          "base_uri": "https://localhost:8080/",
          "height": 73
        },
        "id": "9r-Sf4Pn4Y4b",
        "outputId": "3cc80a11-cf67-4d83-b48e-0bda2f01e948"
      },
      "execution_count": null,
      "outputs": [
        {
          "output_type": "stream",
          "name": "stdout",
          "text": [
            "Personal Data, as used in our Service's privacy policy, refers to information that can be used to contact or identify you.  This includes, but is not limited to, your email address, first and last name, phone number, address (including state, province, ZIP/Postal code, and city), and Cookies and Usage Data.\n",
            "\n"
          ]
        }
      ]
    },
    {
      "cell_type": "code",
      "source": [
        "# Query with previous context\n",
        "query_2 = \"Explain further about this?\"\n",
        "assistant.make_request(query_2)"
      ],
      "metadata": {
        "id": "Fdwpcw4LrfDF",
        "colab": {
          "base_uri": "https://localhost:8080/",
          "height": 618
        },
        "outputId": "3010d039-f218-455d-ad90-78a17e48359c"
      },
      "execution_count": null,
      "outputs": [
        {
          "output_type": "stream",
          "name": "stdout",
          "text": [
            "Okay, let's break down what \"Personal Data\" encompasses in more detail, following up on the definition provided:\n",
            "\n",
            "**Personal Data, as used in our Service's privacy policy, refers to information that can be used to contact or identify you.  This includes, but is not limited to, your email address, first and last name, phone number, address (including state, province, ZIP/Postal code, and city), and Cookies and Usage Data.**\n",
            "\n",
            "Let's examine each component:\n",
            "\n",
            "* **Information that can be used to contact or identify you:** This is the core principle.  Any information that, alone or when combined with other data, could reasonably be used to pinpoint your identity or get in touch with you is considered personal data.  The key is \"reasonably.\"  For example, a publicly available username might not be considered personal data on its own, but if combined with your email address, it significantly increases the likelihood of identification.\n",
            "\n",
            "* **Email address:**  This is a direct and primary identifier.  It allows for communication and account verification.\n",
            "\n",
            "* **First and last name:**  These are classic identifiers, often used in conjunction with other information to uniquely identify individuals.\n",
            "\n",
            "* **Phone number:** This is another direct means of contact and identification.\n",
            "\n",
            "* **Address (including state, province, ZIP/Postal code, and city):**  This provides a precise geographic location, significantly increasing the ability to identify you.  Even partial address information can sometimes be sufficient for identification, particularly when combined with other data points.\n",
            "\n",
            "* **Cookies and Usage Data:** This is where things get more nuanced.\n",
            "\n",
            "    * **Cookies:** These are small text files placed on your device by our website.  They often track your browsing activity on our site, including pages visited, time spent on each page, and links clicked. While cookies themselves might not directly identify you, they can be used in conjunction with other information (like your IP address) to create a profile that can be linked to you.  We might use cookies to personalize your experience or for advertising purposes.\n",
            "\n",
            "    * **Usage Data:** This refers to information about how you use our service. This could include your IP address (which can be linked to your geographic location, and potentially your identity through an ISP), your browser type, device information, the pages you view, the features you use, and the dates and times of your activity.  Like cookies, this data, while not inherently identifying, can be used to build a profile and, when combined with other data, potentially identify you.\n",
            "\n",
            "**What is *not* typically included (but might be in some specific circumstances):**\n",
            "\n",
            "While the above list is comprehensive for many services,  it's crucial to remember that the exact definition of \"Personal Data\" can vary slightly based on applicable laws and regulations (like GDPR, CCPA, etc.).  Some information might not always be considered personal data, such as:\n",
            "\n",
            "* **Aggregated data:** Data that has been combined and anonymized so that individual users cannot be identified.\n",
            "* **Publicly available information:** Information already publicly accessible, such as your name listed in a public directory.  However, even this can become personal data if combined with other private information.\n",
            "\n",
            "\n",
            "It's important to consult the full privacy policy for a complete and precise definition of \"Personal Data\" as it applies to our specific service. This explanation provides a general overview and understanding.  If you have further questions, please don't hesitate to ask.\n",
            "\n"
          ]
        }
      ]
    },
    {
      "cell_type": "code",
      "source": [
        "# Query about information not in the data\n",
        "query_3 = \"What is policy?\"\n",
        "assistant.make_request(query_3)"
      ],
      "metadata": {
        "colab": {
          "base_uri": "https://localhost:8080/",
          "height": 110
        },
        "id": "LXrGYX8lzaCf",
        "outputId": "5ed1a027-1f15-4955-b5e1-26e62841b1e6"
      },
      "execution_count": null,
      "outputs": [
        {
          "output_type": "stream",
          "name": "stdout",
          "text": [
            "A privacy policy is a legal statement that explains how a company collects, uses, and protects the personal information of its users or customers.  It outlines what data is collected, why it's collected, how it's used, who it might be shared with, and what security measures are in place to protect it.  It also often details individuals' rights regarding their data, such as the right to access, correct, or delete their information.\n",
            "\n",
            "If you want to get further information about what constitutes a privacy policy and the specifics of our policy, please visit our website: https://www.presight.io/privacy-policy.html\n",
            "\n"
          ]
        }
      ]
    },
    {
      "cell_type": "code",
      "source": [
        "# Yes/ No question\n",
        "query_4 = \"Do I need to provide my Email Address in Personal Data?\"\n",
        "assistant.make_request(query_4)"
      ],
      "metadata": {
        "colab": {
          "base_uri": "https://localhost:8080/",
          "height": 73
        },
        "id": "rT9Q9DaPl9Pu",
        "outputId": "833dbcda-0fd7-4b06-90c8-d13135a173ac"
      },
      "execution_count": null,
      "outputs": [
        {
          "output_type": "stream",
          "name": "stdout",
          "text": [
            "Based on the provided text, the answer is **yes**.  The privacy policy explicitly states that an email address is included in the types of personally identifiable information (\"Personal Data\") that may be requested.\n",
            "\n"
          ]
        }
      ]
    },
    {
      "cell_type": "code",
      "source": [
        "# Print out the history conversation\n",
        "json.load(open(\"conversation_history.json\",\"r\"))"
      ],
      "metadata": {
        "colab": {
          "base_uri": "https://localhost:8080/"
        },
        "id": "9kCri7jPznW4",
        "outputId": "1ff46503-8226-4f14-fb93-facf52c14239"
      },
      "execution_count": null,
      "outputs": [
        {
          "output_type": "execute_result",
          "data": {
            "text/plain": [
              "[{'user': 'What is Personal Data?',\n",
              "  'bot': \"Personal Data, as used in our Service's privacy policy, refers to information that can be used to contact or identify you.  This includes, but is not limited to, your email address, first and last name, phone number, address (including state, province, ZIP/Postal code, and city), and Cookies and Usage Data.\\n\"},\n",
              " {'user': 'Explain further about this?',\n",
              "  'bot': 'Okay, let\\'s break down what \"Personal Data\" encompasses in more detail, following up on the definition provided:\\n\\n**Personal Data, as used in our Service\\'s privacy policy, refers to information that can be used to contact or identify you.  This includes, but is not limited to, your email address, first and last name, phone number, address (including state, province, ZIP/Postal code, and city), and Cookies and Usage Data.**\\n\\nLet\\'s examine each component:\\n\\n* **Information that can be used to contact or identify you:** This is the core principle.  Any information that, alone or when combined with other data, could reasonably be used to pinpoint your identity or get in touch with you is considered personal data.  The key is \"reasonably.\"  For example, a publicly available username might not be considered personal data on its own, but if combined with your email address, it significantly increases the likelihood of identification.\\n\\n* **Email address:**  This is a direct and primary identifier.  It allows for communication and account verification.\\n\\n* **First and last name:**  These are classic identifiers, often used in conjunction with other information to uniquely identify individuals.\\n\\n* **Phone number:** This is another direct means of contact and identification.\\n\\n* **Address (including state, province, ZIP/Postal code, and city):**  This provides a precise geographic location, significantly increasing the ability to identify you.  Even partial address information can sometimes be sufficient for identification, particularly when combined with other data points.\\n\\n* **Cookies and Usage Data:** This is where things get more nuanced.\\n\\n    * **Cookies:** These are small text files placed on your device by our website.  They often track your browsing activity on our site, including pages visited, time spent on each page, and links clicked. While cookies themselves might not directly identify you, they can be used in conjunction with other information (like your IP address) to create a profile that can be linked to you.  We might use cookies to personalize your experience or for advertising purposes.\\n\\n    * **Usage Data:** This refers to information about how you use our service. This could include your IP address (which can be linked to your geographic location, and potentially your identity through an ISP), your browser type, device information, the pages you view, the features you use, and the dates and times of your activity.  Like cookies, this data, while not inherently identifying, can be used to build a profile and, when combined with other data, potentially identify you.\\n\\n**What is *not* typically included (but might be in some specific circumstances):**\\n\\nWhile the above list is comprehensive for many services,  it\\'s crucial to remember that the exact definition of \"Personal Data\" can vary slightly based on applicable laws and regulations (like GDPR, CCPA, etc.).  Some information might not always be considered personal data, such as:\\n\\n* **Aggregated data:** Data that has been combined and anonymized so that individual users cannot be identified.\\n* **Publicly available information:** Information already publicly accessible, such as your name listed in a public directory.  However, even this can become personal data if combined with other private information.\\n\\n\\nIt\\'s important to consult the full privacy policy for a complete and precise definition of \"Personal Data\" as it applies to our specific service. This explanation provides a general overview and understanding.  If you have further questions, please don\\'t hesitate to ask.\\n'},\n",
              " {'user': 'What is policy?',\n",
              "  'bot': \"A privacy policy is a legal statement that explains how a company collects, uses, and protects the personal information of its users or customers.  It outlines what data is collected, why it's collected, how it's used, who it might be shared with, and what security measures are in place to protect it.  It also often details individuals' rights regarding their data, such as the right to access, correct, or delete their information.\\n\\nIf you want to get further information about what constitutes a privacy policy and the specifics of our policy, please visit our website: https://www.presight.io/privacy-policy.html\\n\"},\n",
              " {'user': 'Do I need to provide my Email Address in Personal Data?',\n",
              "  'bot': 'Based on the provided text, the answer is **yes**.  The privacy policy explicitly states that an email address is included in the types of personally identifiable information (\"Personal Data\") that may be requested.\\n'}]"
            ]
          },
          "metadata": {},
          "execution_count": 113
        }
      ]
    }
  ]
}